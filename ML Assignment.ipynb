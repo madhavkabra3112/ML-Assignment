{
 "cells": [
  {
   "cell_type": "code",
   "execution_count": 594,
   "id": "8e1f8466",
   "metadata": {},
   "outputs": [],
   "source": [
    "import pandas as pd\n",
    "import numpy as np\n",
    "from matplotlib import pyplot as plt\n",
    "%matplotlib inline"
   ]
  },
  {
   "cell_type": "code",
   "execution_count": 3,
   "id": "da25e6ac",
   "metadata": {
    "scrolled": true
   },
   "outputs": [
    {
     "data": {
      "text/html": [
       "<div>\n",
       "<style scoped>\n",
       "    .dataframe tbody tr th:only-of-type {\n",
       "        vertical-align: middle;\n",
       "    }\n",
       "\n",
       "    .dataframe tbody tr th {\n",
       "        vertical-align: top;\n",
       "    }\n",
       "\n",
       "    .dataframe thead th {\n",
       "        text-align: right;\n",
       "    }\n",
       "</style>\n",
       "<table border=\"1\" class=\"dataframe\">\n",
       "  <thead>\n",
       "    <tr style=\"text-align: right;\">\n",
       "      <th></th>\n",
       "      <th>age</th>\n",
       "      <th>sex</th>\n",
       "      <th>cp</th>\n",
       "      <th>trtbps</th>\n",
       "      <th>chol</th>\n",
       "      <th>fbs</th>\n",
       "      <th>restecg</th>\n",
       "      <th>thalachh</th>\n",
       "      <th>exng</th>\n",
       "      <th>oldpeak</th>\n",
       "      <th>output</th>\n",
       "    </tr>\n",
       "  </thead>\n",
       "  <tbody>\n",
       "    <tr>\n",
       "      <th>0</th>\n",
       "      <td>63</td>\n",
       "      <td>1</td>\n",
       "      <td>3</td>\n",
       "      <td>145</td>\n",
       "      <td>233</td>\n",
       "      <td>1</td>\n",
       "      <td>0</td>\n",
       "      <td>150</td>\n",
       "      <td>0</td>\n",
       "      <td>2.3</td>\n",
       "      <td>1</td>\n",
       "    </tr>\n",
       "    <tr>\n",
       "      <th>1</th>\n",
       "      <td>37</td>\n",
       "      <td>1</td>\n",
       "      <td>2</td>\n",
       "      <td>130</td>\n",
       "      <td>250</td>\n",
       "      <td>0</td>\n",
       "      <td>1</td>\n",
       "      <td>187</td>\n",
       "      <td>0</td>\n",
       "      <td>3.5</td>\n",
       "      <td>1</td>\n",
       "    </tr>\n",
       "    <tr>\n",
       "      <th>2</th>\n",
       "      <td>41</td>\n",
       "      <td>0</td>\n",
       "      <td>1</td>\n",
       "      <td>130</td>\n",
       "      <td>204</td>\n",
       "      <td>0</td>\n",
       "      <td>0</td>\n",
       "      <td>172</td>\n",
       "      <td>0</td>\n",
       "      <td>1.4</td>\n",
       "      <td>1</td>\n",
       "    </tr>\n",
       "    <tr>\n",
       "      <th>3</th>\n",
       "      <td>56</td>\n",
       "      <td>1</td>\n",
       "      <td>1</td>\n",
       "      <td>120</td>\n",
       "      <td>236</td>\n",
       "      <td>0</td>\n",
       "      <td>1</td>\n",
       "      <td>178</td>\n",
       "      <td>0</td>\n",
       "      <td>0.8</td>\n",
       "      <td>1</td>\n",
       "    </tr>\n",
       "    <tr>\n",
       "      <th>4</th>\n",
       "      <td>57</td>\n",
       "      <td>0</td>\n",
       "      <td>0</td>\n",
       "      <td>120</td>\n",
       "      <td>354</td>\n",
       "      <td>0</td>\n",
       "      <td>1</td>\n",
       "      <td>163</td>\n",
       "      <td>1</td>\n",
       "      <td>0.6</td>\n",
       "      <td>1</td>\n",
       "    </tr>\n",
       "  </tbody>\n",
       "</table>\n",
       "</div>"
      ],
      "text/plain": [
       "   age  sex  cp  trtbps  chol  fbs  restecg  thalachh  exng  oldpeak  output\n",
       "0   63    1   3     145   233    1        0       150     0      2.3       1\n",
       "1   37    1   2     130   250    0        1       187     0      3.5       1\n",
       "2   41    0   1     130   204    0        0       172     0      1.4       1\n",
       "3   56    1   1     120   236    0        1       178     0      0.8       1\n",
       "4   57    0   0     120   354    0        1       163     1      0.6       1"
      ]
     },
     "execution_count": 3,
     "metadata": {},
     "output_type": "execute_result"
    }
   ],
   "source": [
    "df = pd.read_csv(\"heart.csv\")\n",
    "df.head()"
   ]
  },
  {
   "cell_type": "code",
   "execution_count": 4,
   "id": "8a6793ab",
   "metadata": {},
   "outputs": [],
   "source": [
    "from sklearn.model_selection import train_test_split\n"
   ]
  },
  {
   "cell_type": "code",
   "execution_count": 597,
   "id": "be1b5b9c",
   "metadata": {},
   "outputs": [],
   "source": [
    "X_train, X_test, y_train, y_test = train_test_split(df[['age']],df.output, test_size=0.35)"
   ]
  },
  {
   "cell_type": "code",
   "execution_count": 598,
   "id": "4283c0cd",
   "metadata": {},
   "outputs": [
    {
     "data": {
      "text/html": [
       "<div>\n",
       "<style scoped>\n",
       "    .dataframe tbody tr th:only-of-type {\n",
       "        vertical-align: middle;\n",
       "    }\n",
       "\n",
       "    .dataframe tbody tr th {\n",
       "        vertical-align: top;\n",
       "    }\n",
       "\n",
       "    .dataframe thead th {\n",
       "        text-align: right;\n",
       "    }\n",
       "</style>\n",
       "<table border=\"1\" class=\"dataframe\">\n",
       "  <thead>\n",
       "    <tr style=\"text-align: right;\">\n",
       "      <th></th>\n",
       "      <th>age</th>\n",
       "    </tr>\n",
       "  </thead>\n",
       "  <tbody>\n",
       "    <tr>\n",
       "      <th>75</th>\n",
       "      <td>55</td>\n",
       "    </tr>\n",
       "    <tr>\n",
       "      <th>237</th>\n",
       "      <td>60</td>\n",
       "    </tr>\n",
       "    <tr>\n",
       "      <th>181</th>\n",
       "      <td>65</td>\n",
       "    </tr>\n",
       "    <tr>\n",
       "      <th>34</th>\n",
       "      <td>51</td>\n",
       "    </tr>\n",
       "    <tr>\n",
       "      <th>160</th>\n",
       "      <td>56</td>\n",
       "    </tr>\n",
       "    <tr>\n",
       "      <th>...</th>\n",
       "      <td>...</td>\n",
       "    </tr>\n",
       "    <tr>\n",
       "      <th>141</th>\n",
       "      <td>43</td>\n",
       "    </tr>\n",
       "    <tr>\n",
       "      <th>130</th>\n",
       "      <td>54</td>\n",
       "    </tr>\n",
       "    <tr>\n",
       "      <th>17</th>\n",
       "      <td>66</td>\n",
       "    </tr>\n",
       "    <tr>\n",
       "      <th>162</th>\n",
       "      <td>41</td>\n",
       "    </tr>\n",
       "    <tr>\n",
       "      <th>210</th>\n",
       "      <td>57</td>\n",
       "    </tr>\n",
       "  </tbody>\n",
       "</table>\n",
       "<p>196 rows × 1 columns</p>\n",
       "</div>"
      ],
      "text/plain": [
       "     age\n",
       "75    55\n",
       "237   60\n",
       "181   65\n",
       "34    51\n",
       "160   56\n",
       "..   ...\n",
       "141   43\n",
       "130   54\n",
       "17    66\n",
       "162   41\n",
       "210   57\n",
       "\n",
       "[196 rows x 1 columns]"
      ]
     },
     "execution_count": 598,
     "metadata": {},
     "output_type": "execute_result"
    }
   ],
   "source": [
    "X_train"
   ]
  },
  {
   "cell_type": "code",
   "execution_count": 599,
   "id": "9ebfd1c0",
   "metadata": {},
   "outputs": [],
   "source": [
    "from sklearn.linear_model import LogisticRegression\n",
    "model = LogisticRegression()\n",
    "import warnings\n",
    "warnings.filterwarnings('ignore')\n",
    "from sklearn.datasets import load_boston\n",
    "from sklearn import metrics\n"
   ]
  },
  {
   "cell_type": "code",
   "execution_count": 600,
   "id": "840dbfc4",
   "metadata": {},
   "outputs": [
    {
     "data": {
      "text/plain": [
       "LogisticRegression()"
      ]
     },
     "execution_count": 600,
     "metadata": {},
     "output_type": "execute_result"
    }
   ],
   "source": [
    "model.fit(X_train, y_train)"
   ]
  },
  {
   "cell_type": "code",
   "execution_count": 601,
   "id": "08ab502c",
   "metadata": {},
   "outputs": [
    {
     "data": {
      "text/plain": [
       "0.6261682242990654"
      ]
     },
     "execution_count": 601,
     "metadata": {},
     "output_type": "execute_result"
    }
   ],
   "source": [
    "model.score(X_test,y_test)"
   ]
  },
  {
   "cell_type": "code",
   "execution_count": 602,
   "id": "bce8cb8c",
   "metadata": {},
   "outputs": [
    {
     "data": {
      "text/plain": [
       "0.6377551020408163"
      ]
     },
     "execution_count": 602,
     "metadata": {},
     "output_type": "execute_result"
    }
   ],
   "source": [
    "model.score(X_train,y_train)"
   ]
  },
  {
   "cell_type": "code",
   "execution_count": 603,
   "id": "b1757588",
   "metadata": {},
   "outputs": [
    {
     "data": {
      "text/html": [
       "<div>\n",
       "<style scoped>\n",
       "    .dataframe tbody tr th:only-of-type {\n",
       "        vertical-align: middle;\n",
       "    }\n",
       "\n",
       "    .dataframe tbody tr th {\n",
       "        vertical-align: top;\n",
       "    }\n",
       "\n",
       "    .dataframe thead th {\n",
       "        text-align: right;\n",
       "    }\n",
       "</style>\n",
       "<table border=\"1\" class=\"dataframe\">\n",
       "  <thead>\n",
       "    <tr style=\"text-align: right;\">\n",
       "      <th></th>\n",
       "      <th>age</th>\n",
       "    </tr>\n",
       "  </thead>\n",
       "  <tbody>\n",
       "    <tr>\n",
       "      <th>107</th>\n",
       "      <td>45</td>\n",
       "    </tr>\n",
       "    <tr>\n",
       "      <th>212</th>\n",
       "      <td>39</td>\n",
       "    </tr>\n",
       "    <tr>\n",
       "      <th>69</th>\n",
       "      <td>62</td>\n",
       "    </tr>\n",
       "    <tr>\n",
       "      <th>213</th>\n",
       "      <td>61</td>\n",
       "    </tr>\n",
       "    <tr>\n",
       "      <th>270</th>\n",
       "      <td>46</td>\n",
       "    </tr>\n",
       "    <tr>\n",
       "      <th>...</th>\n",
       "      <td>...</td>\n",
       "    </tr>\n",
       "    <tr>\n",
       "      <th>38</th>\n",
       "      <td>65</td>\n",
       "    </tr>\n",
       "    <tr>\n",
       "      <th>43</th>\n",
       "      <td>53</td>\n",
       "    </tr>\n",
       "    <tr>\n",
       "      <th>14</th>\n",
       "      <td>58</td>\n",
       "    </tr>\n",
       "    <tr>\n",
       "      <th>81</th>\n",
       "      <td>45</td>\n",
       "    </tr>\n",
       "    <tr>\n",
       "      <th>124</th>\n",
       "      <td>39</td>\n",
       "    </tr>\n",
       "  </tbody>\n",
       "</table>\n",
       "<p>107 rows × 1 columns</p>\n",
       "</div>"
      ],
      "text/plain": [
       "     age\n",
       "107   45\n",
       "212   39\n",
       "69    62\n",
       "213   61\n",
       "270   46\n",
       "..   ...\n",
       "38    65\n",
       "43    53\n",
       "14    58\n",
       "81    45\n",
       "124   39\n",
       "\n",
       "[107 rows x 1 columns]"
      ]
     },
     "execution_count": 603,
     "metadata": {},
     "output_type": "execute_result"
    }
   ],
   "source": [
    "X_test"
   ]
  },
  {
   "cell_type": "code",
   "execution_count": 604,
   "id": "7c7ffb40",
   "metadata": {
    "scrolled": true
   },
   "outputs": [
    {
     "data": {
      "text/plain": [
       "array([1, 1, 0, 0, 1, 1, 1, 0, 1, 0, 1, 0, 0, 1, 1, 0, 1, 1, 0, 1, 0, 0,\n",
       "       1, 0, 0, 1, 1, 1, 0, 0, 0, 1, 1, 1, 1, 0, 1, 0, 1, 0, 1, 1, 0, 0,\n",
       "       0, 0, 1, 1, 0, 0, 0, 1, 0, 0, 1, 1, 1, 1, 0, 0, 0, 0, 0, 1, 0, 0,\n",
       "       1, 1, 1, 1, 0, 1, 1, 0, 1, 0, 0, 0, 0, 1, 0, 1, 0, 1, 0, 1, 1, 1,\n",
       "       0, 0, 0, 1, 0, 1, 1, 1, 0, 0, 0, 1, 1, 0, 0, 1, 0, 1, 1],\n",
       "      dtype=int64)"
      ]
     },
     "execution_count": 604,
     "metadata": {},
     "output_type": "execute_result"
    }
   ],
   "source": [
    "model.predict(X_test)"
   ]
  },
  {
   "cell_type": "code",
   "execution_count": 605,
   "id": "6d9edd91",
   "metadata": {},
   "outputs": [],
   "source": [
    "y_predicted = model.predict(X_test)"
   ]
  },
  {
   "cell_type": "code",
   "execution_count": 606,
   "id": "83ffd439",
   "metadata": {},
   "outputs": [
    {
     "data": {
      "text/plain": [
       "array([[28, 15],\n",
       "       [25, 39]], dtype=int64)"
      ]
     },
     "execution_count": 606,
     "metadata": {},
     "output_type": "execute_result"
    }
   ],
   "source": [
    "from sklearn.metrics import confusion_matrix\n",
    "cm = confusion_matrix(y_test, y_predicted)\n",
    "cm"
   ]
  },
  {
   "cell_type": "code",
   "execution_count": 607,
   "id": "b4207cc7",
   "metadata": {
    "scrolled": true
   },
   "outputs": [
    {
     "data": {
      "text/plain": [
       "Text(69.0, 0.5, 'Truth')"
      ]
     },
     "execution_count": 607,
     "metadata": {},
     "output_type": "execute_result"
    },
    {
     "data": {
      "image/png": "[encoded data removed]",
      "text/plain": [
       "<Figure size 720x504 with 2 Axes>"
      ]
     },
     "metadata": {
      "needs_background": "light"
     },
     "output_type": "display_data"
    }
   ],
   "source": [
    "import seaborn as sn\n",
    "plt.figure(figsize = (10,7))\n",
    "sn.heatmap(cm, annot=True)\n",
    "plt.xlabel('Predicted')\n",
    "plt.ylabel('Truth')"
   ]
  },
  {
   "cell_type": "code",
   "execution_count": 608,
   "id": "2e782bfe",
   "metadata": {},
   "outputs": [],
   "source": [
    "from sklearn.preprocessing import MinMaxScaler"
   ]
  },
  {
   "cell_type": "code",
   "execution_count": 609,
   "id": "f91b73cc",
   "metadata": {},
   "outputs": [],
   "source": [
    "from sklearn.preprocessing import StandardScaler"
   ]
  },
  {
   "cell_type": "code",
   "execution_count": 610,
   "id": "65ee1557",
   "metadata": {},
   "outputs": [
    {
     "data": {
      "text/plain": [
       "StandardScaler()"
      ]
     },
     "execution_count": 610,
     "metadata": {},
     "output_type": "execute_result"
    }
   ],
   "source": [
    "scaler=StandardScaler()\n",
    "scaler.fit(df)"
   ]
  },
  {
   "cell_type": "code",
   "execution_count": 611,
   "id": "1fc276ff",
   "metadata": {},
   "outputs": [],
   "source": [
    "scaled_data=scaler.transform(df)"
   ]
  },
  {
   "cell_type": "code",
   "execution_count": 612,
   "id": "12a4f2fd",
   "metadata": {},
   "outputs": [
    {
     "data": {
      "text/plain": [
       "array([[ 0.9521966 ,  0.68100522,  1.97312292, ..., -0.71442887,\n",
       "        -2.14887271,  0.91452919],\n",
       "       [-1.91531289,  0.68100522,  1.00257707, ..., -0.71442887,\n",
       "        -0.51292188,  0.91452919],\n",
       "       [-1.47415758, -1.46841752,  0.03203122, ..., -0.71442887,\n",
       "        -0.51292188,  0.91452919],\n",
       "       ...,\n",
       "       [ 1.50364073,  0.68100522, -0.93851463, ...,  1.24459328,\n",
       "         1.12302895, -1.09345881],\n",
       "       [ 0.29046364,  0.68100522, -0.93851463, ...,  0.26508221,\n",
       "         1.12302895, -1.09345881],\n",
       "       [ 0.29046364, -1.46841752,  0.03203122, ...,  0.26508221,\n",
       "        -0.51292188, -1.09345881]])"
      ]
     },
     "execution_count": 612,
     "metadata": {},
     "output_type": "execute_result"
    }
   ],
   "source": [
    "scaled_data"
   ]
  },
  {
   "cell_type": "code",
   "execution_count": 613,
   "id": "c5a8ba4e",
   "metadata": {},
   "outputs": [],
   "source": [
    "from sklearn.decomposition import PCA"
   ]
  },
  {
   "cell_type": "code",
   "execution_count": 614,
   "id": "d0897f1c",
   "metadata": {},
   "outputs": [],
   "source": [
    "pca=PCA(n_components=2)"
   ]
  },
  {
   "cell_type": "code",
   "execution_count": 615,
   "id": "76426e77",
   "metadata": {},
   "outputs": [
    {
     "data": {
      "text/plain": [
       "PCA(n_components=2)"
      ]
     },
     "execution_count": 615,
     "metadata": {},
     "output_type": "execute_result"
    }
   ],
   "source": [
    "pca.fit(scaled_data)"
   ]
  },
  {
   "cell_type": "code",
   "execution_count": 616,
   "id": "ca9c7637",
   "metadata": {},
   "outputs": [],
   "source": [
    "X_pca=pca.transform(scaled_data)"
   ]
  },
  {
   "cell_type": "code",
   "execution_count": 617,
   "id": "693cf28a",
   "metadata": {},
   "outputs": [
    {
     "data": {
      "text/plain": [
       "(303, 14)"
      ]
     },
     "execution_count": 617,
     "metadata": {},
     "output_type": "execute_result"
    }
   ],
   "source": [
    "scaled_data.shape"
   ]
  },
  {
   "cell_type": "code",
   "execution_count": 618,
   "id": "5686dbde",
   "metadata": {},
   "outputs": [
    {
     "data": {
      "text/plain": [
       "(303, 2)"
      ]
     },
     "execution_count": 618,
     "metadata": {},
     "output_type": "execute_result"
    }
   ],
   "source": [
    "X_pca.shape"
   ]
  },
  {
   "cell_type": "code",
   "execution_count": 619,
   "id": "be84e050",
   "metadata": {
    "scrolled": false
   },
   "outputs": [
    {
     "data": {
      "text/plain": [
       "array([[ 0.9521966 ,  0.68100522,  1.97312292, ..., -0.71442887,\n",
       "        -2.14887271,  0.91452919],\n",
       "       [-1.91531289,  0.68100522,  1.00257707, ..., -0.71442887,\n",
       "        -0.51292188,  0.91452919],\n",
       "       [-1.47415758, -1.46841752,  0.03203122, ..., -0.71442887,\n",
       "        -0.51292188,  0.91452919],\n",
       "       ...,\n",
       "       [ 1.50364073,  0.68100522, -0.93851463, ...,  1.24459328,\n",
       "         1.12302895, -1.09345881],\n",
       "       [ 0.29046364,  0.68100522, -0.93851463, ...,  0.26508221,\n",
       "         1.12302895, -1.09345881],\n",
       "       [ 0.29046364, -1.46841752,  0.03203122, ...,  0.26508221,\n",
       "        -0.51292188, -1.09345881]])"
      ]
     },
     "execution_count": 619,
     "metadata": {},
     "output_type": "execute_result"
    }
   ],
   "source": [
    "scaled_data"
   ]
  },
  {
   "cell_type": "code",
   "execution_count": 620,
   "id": "e1c32512",
   "metadata": {},
   "outputs": [
    {
     "data": {
      "text/plain": [
       "array([[-5.17391076e-02,  2.62402204e+00],\n",
       "       [-8.17440594e-01, -7.30374576e-01],\n",
       "       [-2.05759932e+00, -3.90984463e-02],\n",
       "       [-1.90304318e+00, -5.96700877e-01],\n",
       "       [-7.68370620e-01,  4.12545496e-01],\n",
       "       [-1.00063986e+00, -2.33692414e-01],\n",
       "       [-5.91350471e-01,  1.63794959e+00],\n",
       "       [-2.00195499e+00, -1.32964375e+00],\n",
       "       [-1.23612315e+00,  1.06805571e+00],\n",
       "       [-1.69086932e+00,  1.84121933e-02],\n",
       "       [-1.10288020e+00, -4.16413123e-01],\n",
       "       [-2.06867462e+00,  6.26420387e-01],\n",
       "       [-1.91311753e+00, -4.82444305e-01],\n",
       "       [-1.88544760e-02, -5.27645548e-02],\n",
       "       [-1.62380811e+00,  3.22097662e+00],\n",
       "       [-1.52544131e+00,  1.76529041e-01],\n",
       "       [-2.34955098e+00,  1.30681292e+00],\n",
       "       [ 4.74312110e-01,  2.12016032e+00],\n",
       "       [-1.39313353e+00, -6.41479881e-01],\n",
       "       [-8.96394228e-01,  2.13680646e+00],\n",
       "       [-3.59960913e-01, -5.98388497e-01],\n",
       "       [-1.85472938e+00, -1.13950739e+00],\n",
       "       [-2.13339648e+00, -1.12381929e+00],\n",
       "       [ 3.49867293e-01,  1.21228881e+00],\n",
       "       [-1.51045516e+00, -1.35030925e+00],\n",
       "       [-6.49745263e-01,  2.62657895e+00],\n",
       "       [-1.13519669e+00,  1.28381653e+00],\n",
       "       [-1.68484132e+00, -1.25778863e+00],\n",
       "       [-7.34150073e-01,  4.06818552e+00],\n",
       "       [-2.74536410e-01,  9.05140700e-01],\n",
       "       [-2.61817564e+00, -1.05993072e+00],\n",
       "       [-6.44116580e-01, -1.14380583e+00],\n",
       "       [-2.38753263e+00, -6.62552438e-01],\n",
       "       [-2.69117779e-01,  5.69903587e-01],\n",
       "       [-3.49101837e-01, -2.76627218e-01],\n",
       "       [-1.65091381e-01,  2.74607102e-01],\n",
       "       [-2.21859857e+00,  2.10139860e+00],\n",
       "       [-9.39283620e-01,  4.08178646e-01],\n",
       "       [-1.34562823e+00,  2.06427309e+00],\n",
       "       [-9.76289260e-01,  3.22818052e+00],\n",
       "       [-1.00565132e+00,  1.78217395e+00],\n",
       "       [-1.50814855e+00, -2.16559442e-01],\n",
       "       [ 5.11228040e-01, -1.90985712e+00],\n",
       "       [-6.73381599e-01,  7.50534084e-01],\n",
       "       [-2.43199221e+00,  3.13344738e-01],\n",
       "       [-1.95175554e+00, -1.88351404e-01],\n",
       "       [-2.41312833e+00, -3.78398832e-02],\n",
       "       [-1.92214197e+00,  2.13599285e-01],\n",
       "       [-2.24492992e+00,  1.44432760e+00],\n",
       "       [-1.58854947e+00,  6.70203812e-01],\n",
       "       [-1.86985534e+00,  1.05379300e+00],\n",
       "       [-1.91609020e-01,  5.56030502e-01],\n",
       "       [ 5.67431594e-01,  2.25091180e-01],\n",
       "       [-2.52488802e+00, -9.86850237e-01],\n",
       "       [-2.02686307e+00,  1.72772921e+00],\n",
       "       [-1.38290113e+00, -5.87912610e-01],\n",
       "       [-2.03896806e+00, -9.07656783e-01],\n",
       "       [-2.09817770e+00, -9.68355905e-01],\n",
       "       [-3.14312445e+00, -1.19284345e+00],\n",
       "       [-1.16549495e+00,  1.18314589e+00],\n",
       "       [-9.11943345e-01,  2.53290151e+00],\n",
       "       [-1.46848012e+00, -8.22342849e-01],\n",
       "       [-2.72337284e+00,  9.45620520e-02],\n",
       "       [-1.60893397e+00, -8.16450051e-01],\n",
       "       [-1.67455676e+00,  1.34416607e+00],\n",
       "       [-2.30271514e+00, -9.43383436e-01],\n",
       "       [-5.69638443e-01, -1.54662329e+00],\n",
       "       [-1.66636126e+00,  4.11119475e-01],\n",
       "       [-2.39466121e+00, -1.31340271e+00],\n",
       "       [-1.76010764e+00,  1.77030994e-01],\n",
       "       [-7.10777640e-01, -1.32225456e-01],\n",
       "       [-1.07894383e+00, -1.97907470e+00],\n",
       "       [-3.05873919e+00, -1.50363300e+00],\n",
       "       [-1.01826710e+00, -4.71443814e-01],\n",
       "       [-2.27413620e+00, -1.89864145e-01],\n",
       "       [-8.36135500e-01,  1.15850659e+00],\n",
       "       [-6.57681877e-01,  9.74806772e-01],\n",
       "       [-9.92578435e-01, -5.01041115e-01],\n",
       "       [-2.20549463e+00,  3.65511246e-02],\n",
       "       [-8.97376192e-02, -8.74323045e-01],\n",
       "       [-2.90325284e+00, -1.19621790e+00],\n",
       "       [-1.92933549e+00, -4.49939488e-02],\n",
       "       [-2.03571149e+00,  8.88851186e-01],\n",
       "       [-9.98590482e-01,  1.58634577e+00],\n",
       "       [-8.15034398e-01, -4.84587027e-01],\n",
       "       [ 6.86405998e-02,  3.36882363e+00],\n",
       "       [-6.60331604e-01,  2.69414419e-01],\n",
       "       [-1.80218393e+00, -1.30851560e+00],\n",
       "       [-1.50647712e+00,  8.47632581e-02],\n",
       "       [-2.86413326e-01,  1.40511320e-01],\n",
       "       [-1.87191729e+00,  5.29009173e-01],\n",
       "       [-5.74340315e-01, -1.47317373e+00],\n",
       "       [-1.23932588e+00,  1.80429990e-01],\n",
       "       [-6.44516930e-01,  1.71603469e+00],\n",
       "       [-1.76138169e+00, -9.74242395e-01],\n",
       "       [ 5.58242686e-01, -8.72441053e-01],\n",
       "       [-7.46567882e-02,  2.36361470e+00],\n",
       "       [-2.99837483e-01, -5.70020738e-01],\n",
       "       [-1.44518980e+00, -5.57804464e-02],\n",
       "       [-1.19595212e+00,  1.36148722e+00],\n",
       "       [-1.85256182e+00,  5.89465259e-01],\n",
       "       [ 1.44560571e+00,  2.07449155e+00],\n",
       "       [-1.63281023e+00,  9.74799971e-01],\n",
       "       [-1.23984915e+00, -3.22908854e-01],\n",
       "       [-2.34791420e+00, -6.97338033e-01],\n",
       "       [-1.65178110e-01,  1.41205615e+00],\n",
       "       [-6.16347622e-02,  2.97039490e+00],\n",
       "       [-3.72341638e-01, -7.61501166e-02],\n",
       "       [-1.96705749e+00,  1.44808441e-02],\n",
       "       [-1.85657249e+00, -4.72005587e-02],\n",
       "       [-1.66179746e-01,  2.06161125e+00],\n",
       "       [-1.42706030e+00,  3.33148203e-01],\n",
       "       [-1.00834872e+00,  1.61432736e+00],\n",
       "       [-1.74801641e+00, -2.25118881e+00],\n",
       "       [-1.68719566e+00, -2.27840549e-01],\n",
       "       [-3.12840758e+00, -5.90061798e-01],\n",
       "       [-1.25941118e+00, -4.73654792e-01],\n",
       "       [-7.98907405e-01, -1.93159324e-01],\n",
       "       [-2.78775571e+00, -8.64736392e-01],\n",
       "       [-3.95660650e-01,  1.69638433e-02],\n",
       "       [ 8.50365566e-01,  1.37476465e+00],\n",
       "       [-1.44480468e+00,  3.77346120e-01],\n",
       "       [-2.09243326e+00, -2.60054929e-01],\n",
       "       [-2.39933321e+00,  7.07091485e-01],\n",
       "       [-3.46394362e+00, -1.26231022e+00],\n",
       "       [-3.10095489e+00, -1.06864202e+00],\n",
       "       [-1.67544027e+00, -1.73467454e+00],\n",
       "       [-1.68418333e+00,  2.21283832e+00],\n",
       "       [-1.81732381e+00,  8.91807612e-01],\n",
       "       [ 3.04716020e-01,  1.40897196e+00],\n",
       "       [-1.97215941e+00,  1.25152349e+00],\n",
       "       [-1.65100746e+00,  5.46782408e-01],\n",
       "       [-2.18885014e+00, -8.90420583e-01],\n",
       "       [-2.26370411e+00, -1.60807358e+00],\n",
       "       [-2.42509762e+00,  1.30351778e-01],\n",
       "       [-1.96682128e+00,  1.07646030e-01],\n",
       "       [-1.21545886e+00,  1.14890857e+00],\n",
       "       [-1.00177887e+00,  9.58379405e-01],\n",
       "       [ 1.82045533e-01, -1.34150965e+00],\n",
       "       [ 1.54643465e+00, -6.76614083e-01],\n",
       "       [-1.98082781e+00,  1.07255348e+00],\n",
       "       [-1.31484834e+00, -1.08292012e+00],\n",
       "       [-2.51810276e+00, -3.22578146e-01],\n",
       "       [-8.01959262e-01,  2.54810672e-01],\n",
       "       [-3.67736067e-01,  1.39214294e+00],\n",
       "       [-6.73038396e-01,  1.45580569e+00],\n",
       "       [-1.68360956e+00,  5.41195927e-02],\n",
       "       [-2.18255820e+00,  1.75093214e+00],\n",
       "       [-2.63441035e+00, -1.01199984e+00],\n",
       "       [-2.38375580e+00, -1.17409053e+00],\n",
       "       [-6.55738858e-02,  1.34969108e+00],\n",
       "       [-6.75611908e-02,  2.09535140e-03],\n",
       "       [-3.95970433e-01,  1.67282759e+00],\n",
       "       [-6.98195888e-01,  2.49119688e+00],\n",
       "       [-2.09451782e+00,  6.45065882e-02],\n",
       "       [-6.09809735e-01,  1.30333911e-01],\n",
       "       [-2.57836091e+00, -4.25284152e-01],\n",
       "       [-2.74389694e+00, -1.89877766e+00],\n",
       "       [ 5.01844088e-01, -3.73681705e-01],\n",
       "       [-1.28307821e+00, -3.71962082e-01],\n",
       "       [-9.48844629e-01, -4.57674884e-01],\n",
       "       [-1.58360504e+00,  1.24530629e+00],\n",
       "       [-2.78323493e+00, -1.89874769e+00],\n",
       "       [-1.78107380e+00, -8.39559018e-01],\n",
       "       [-1.78107380e+00, -8.39559018e-01],\n",
       "       [ 3.54894006e+00,  1.06894613e+00],\n",
       "       [ 3.23305972e+00, -7.22351808e-01],\n",
       "       [ 2.33991879e+00,  1.48632597e+00],\n",
       "       [ 1.60657492e+00, -1.74468409e-01],\n",
       "       [ 2.87122173e+00, -3.32045351e-01],\n",
       "       [ 8.42269800e-01,  1.04957996e+00],\n",
       "       [ 3.02603151e-01, -1.77477738e+00],\n",
       "       [ 4.68252690e-01,  2.55581086e-02],\n",
       "       [ 7.81731589e-01,  7.16628988e-03],\n",
       "       [ 2.96830541e+00, -9.76741756e-01],\n",
       "       [ 1.81872521e+00, -2.92442007e+00],\n",
       "       [ 1.54058192e+00, -7.74707973e-01],\n",
       "       [-6.55333050e-01,  9.29125454e-01],\n",
       "       [ 2.06808435e+00, -2.44402105e+00],\n",
       "       [ 1.93907279e+00,  3.67016772e-01],\n",
       "       [ 2.25480002e+00, -6.76029136e-01],\n",
       "       [ 2.43058556e+00,  1.24735571e+00],\n",
       "       [-5.24892734e-01,  1.22155499e+00],\n",
       "       [ 8.01802238e-01, -4.99734096e-01],\n",
       "       [ 1.82223995e+00, -4.44300748e-01],\n",
       "       [-4.48884828e-01, -1.09437038e+00],\n",
       "       [ 1.54231591e+00, -1.23604077e+00],\n",
       "       [ 2.90521140e+00, -1.10023130e+00],\n",
       "       [ 3.14868798e-02, -6.10908653e-01],\n",
       "       [-7.32165070e-01, -2.51673528e+00],\n",
       "       [ 1.36163346e+00, -5.06422417e-01],\n",
       "       [ 3.12171329e+00, -9.69243294e-01],\n",
       "       [ 1.48438463e+00, -1.72994492e+00],\n",
       "       [ 3.19731543e+00, -6.16269602e-02],\n",
       "       [ 7.12663607e-01,  2.30484826e-01],\n",
       "       [ 3.69815268e+00,  7.23033758e-01],\n",
       "       [ 5.93067364e-01, -2.75799482e-01],\n",
       "       [ 1.22919328e+00,  4.11970204e-01],\n",
       "       [ 3.17307004e+00, -1.12528060e+00],\n",
       "       [ 5.09647433e-02,  1.20256522e-02],\n",
       "       [-1.01601356e+00, -1.79252097e+00],\n",
       "       [ 2.74603630e+00, -8.25790252e-01],\n",
       "       [ 1.97930561e+00, -4.04908736e-01],\n",
       "       [ 2.29417987e+00,  2.33116831e+00],\n",
       "       [ 4.01309767e+00,  1.10821369e+00],\n",
       "       [ 5.85953577e-01, -1.69825743e+00],\n",
       "       [ 2.03150376e+00, -1.42254284e+00],\n",
       "       [ 1.91446003e+00,  1.17153473e+00],\n",
       "       [ 1.09860119e+00, -1.26234864e+00],\n",
       "       [ 7.28010483e-01, -1.59224326e+00],\n",
       "       [ 4.77141216e-01, -1.96191624e-01],\n",
       "       [ 2.79356002e+00, -1.27772881e+00],\n",
       "       [ 3.49967839e-01, -2.39958139e+00],\n",
       "       [ 1.85682418e+00,  7.79180270e-01],\n",
       "       [ 1.84416125e+00,  5.40554592e-02],\n",
       "       [ 2.25091760e+00,  7.09324194e-01],\n",
       "       [ 1.32360613e+00,  7.94036343e-01],\n",
       "       [ 2.95789716e+00,  9.04631191e-01],\n",
       "       [ 2.47177019e+00,  8.36287779e-02],\n",
       "       [ 1.28705065e+00, -4.77803958e-01],\n",
       "       [ 3.01485895e+00,  2.47529038e+00],\n",
       "       [ 4.09274460e+00, -1.34312826e+00],\n",
       "       [ 3.32423061e-01,  2.27154856e+00],\n",
       "       [ 4.50144084e+00,  2.97079711e+00],\n",
       "       [ 2.44506354e+00, -2.03656749e+00],\n",
       "       [ 3.29699590e+00, -8.47861441e-01],\n",
       "       [ 1.98113438e+00, -2.54901315e-02],\n",
       "       [ 1.22088861e+00, -3.11815945e+00],\n",
       "       [ 2.61062553e-01,  1.53791841e+00],\n",
       "       [ 1.78784984e+00, -2.75475188e-01],\n",
       "       [-1.46857832e+00, -1.35267281e+00],\n",
       "       [ 2.69769083e+00,  1.69666390e+00],\n",
       "       [ 2.25369490e+00, -1.48558397e-02],\n",
       "       [ 3.48918181e+00, -4.70143135e-01],\n",
       "       [ 3.00000447e+00,  1.16348816e+00],\n",
       "       [ 7.99225221e-01, -1.19466478e+00],\n",
       "       [ 4.02405739e-01, -2.33898507e-01],\n",
       "       [ 1.50004625e+00,  2.86730606e-01],\n",
       "       [ 1.69366907e+00,  6.94738092e-01],\n",
       "       [ 1.78176429e-01, -2.07983188e+00],\n",
       "       [ 3.09079069e+00,  7.45499865e-01],\n",
       "       [ 1.09325240e+00,  8.98976725e-01],\n",
       "       [ 1.64565200e+00,  6.97783016e-01],\n",
       "       [ 3.04347388e+00, -6.15178916e-01],\n",
       "       [ 2.18632453e+00, -7.41748846e-01],\n",
       "       [ 3.23791047e-01, -1.03665175e+00],\n",
       "       [ 2.54137308e+00,  1.16530621e+00],\n",
       "       [ 1.93504063e+00,  8.75209943e-01],\n",
       "       [-8.33031585e-02,  1.31488698e+00],\n",
       "       [ 2.04572048e+00,  1.08849804e+00],\n",
       "       [ 3.74178106e+00, -8.00301619e-01],\n",
       "       [ 2.33333346e+00, -4.85183041e-01],\n",
       "       [ 2.35528194e+00,  2.06435327e+00],\n",
       "       [ 2.34708852e+00, -4.66787394e-01],\n",
       "       [-2.61975739e-01,  1.42949836e+00],\n",
       "       [ 2.08292980e+00, -6.58049566e-01],\n",
       "       [ 3.21333759e+00, -7.44143352e-01],\n",
       "       [ 1.90056799e+00, -1.36985348e+00],\n",
       "       [ 1.23670887e+00,  4.33968899e-01],\n",
       "       [ 4.32835679e-01, -1.91873233e+00],\n",
       "       [ 2.27745531e+00,  1.94690046e+00],\n",
       "       [-6.57084094e-01, -1.52522177e+00],\n",
       "       [ 3.10086380e+00, -1.38176027e+00],\n",
       "       [ 1.35543955e+00, -2.17195358e-01],\n",
       "       [ 1.63053609e+00, -1.60606733e+00],\n",
       "       [ 1.11244796e+00, -9.89542767e-01],\n",
       "       [ 2.45874408e+00,  1.06843746e+00],\n",
       "       [ 1.57803614e-01, -9.52868638e-01],\n",
       "       [ 3.02289254e+00, -5.84864093e-01],\n",
       "       [ 3.36841044e+00,  8.82007884e-02],\n",
       "       [ 1.08784002e-01, -1.46477084e+00],\n",
       "       [ 8.42902925e-01,  4.95403173e-01],\n",
       "       [ 1.86086341e+00, -5.34347363e-01],\n",
       "       [-1.22734547e-01, -1.81872886e+00],\n",
       "       [ 1.71616764e+00, -1.44923166e+00],\n",
       "       [ 2.31440704e-01, -1.52217859e+00],\n",
       "       [ 2.18829455e+00, -6.52939628e-01],\n",
       "       [-1.19154975e-01, -8.98278875e-01],\n",
       "       [ 8.92050097e-02,  2.45434552e+00],\n",
       "       [ 2.86696736e+00, -7.51967645e-01],\n",
       "       [ 1.17566940e+00, -9.24519063e-01],\n",
       "       [ 2.23359078e-01, -2.53027337e-01],\n",
       "       [ 5.34638724e-01,  8.99538640e-01],\n",
       "       [-8.97582753e-01, -1.55684125e+00],\n",
       "       [ 2.04136892e+00, -8.34754453e-01],\n",
       "       [ 2.63513012e+00, -1.10028287e+00],\n",
       "       [-6.42214336e-01,  8.29495287e-02],\n",
       "       [-2.77362634e-01,  4.63123004e-01],\n",
       "       [ 2.49151776e+00, -1.22063284e+00],\n",
       "       [ 1.76918300e+00, -1.35051628e+00],\n",
       "       [ 1.98015848e-01, -6.73758599e-01],\n",
       "       [ 2.40181873e+00, -2.50262631e-01],\n",
       "       [ 2.34424212e+00,  2.40818254e+00],\n",
       "       [ 8.00315706e-01,  7.01849155e-01],\n",
       "       [ 1.38044740e+00, -2.15969151e+00],\n",
       "       [ 2.89172161e+00, -7.37590462e-01],\n",
       "       [ 8.03996346e-01, -5.31175059e-01],\n",
       "       [ 2.10424914e+00,  1.52607644e+00],\n",
       "       [ 1.48528716e+00, -4.23483174e-01],\n",
       "       [-1.40325379e-01, -1.21592205e+00],\n",
       "       [ 2.68177206e+00,  5.93018945e-01],\n",
       "       [ 2.17085793e+00, -2.16699205e+00],\n",
       "       [-3.65759657e-01,  7.87916077e-01]])"
      ]
     },
     "execution_count": 620,
     "metadata": {},
     "output_type": "execute_result"
    }
   ],
   "source": [
    "X_pca"
   ]
  },
  {
   "cell_type": "code",
   "execution_count": 621,
   "id": "12816b22",
   "metadata": {},
   "outputs": [
    {
     "data": {
      "text/plain": [
       "LogisticRegression(max_iter=1000)"
      ]
     },
     "execution_count": 621,
     "metadata": {},
     "output_type": "execute_result"
    }
   ],
   "source": [
    "X_train_pca, X_test_pca, y_train, y_test = train_test_split(X_pca, df.output, test_size=0.2, random_state=30)\n",
    "\n",
    "model = LogisticRegression(max_iter=1000)\n",
    "model.fit(X_train_pca, y_train)"
   ]
  },
  {
   "cell_type": "code",
   "execution_count": 622,
   "id": "3c3afa1e",
   "metadata": {},
   "outputs": [
    {
     "data": {
      "text/plain": [
       "0.9180327868852459"
      ]
     },
     "execution_count": 622,
     "metadata": {},
     "output_type": "execute_result"
    }
   ],
   "source": [
    "model.score(X_test_pca, y_test)\n"
   ]
  },
  {
   "cell_type": "code",
   "execution_count": 624,
   "id": "9fbd180a",
   "metadata": {},
   "outputs": [],
   "source": [
    "Y_predicted = model.predict(X_test_pca)"
   ]
  },
  {
   "cell_type": "code",
   "execution_count": 625,
   "id": "e3598b7f",
   "metadata": {},
   "outputs": [
    {
     "data": {
      "text/plain": [
       "array([[23,  1],\n",
       "       [ 4, 33]], dtype=int64)"
      ]
     },
     "execution_count": 625,
     "metadata": {},
     "output_type": "execute_result"
    }
   ],
   "source": [
    "cm = confusion_matrix(y_test, Y_predicted)\n",
    "cm"
   ]
  },
  {
   "cell_type": "code",
   "execution_count": 626,
   "id": "edc263bc",
   "metadata": {
    "scrolled": true
   },
   "outputs": [
    {
     "data": {
      "text/plain": [
       "Text(69.0, 0.5, 'Truth')"
      ]
     },
     "execution_count": 626,
     "metadata": {},
     "output_type": "execute_result"
    },
    {
     "data": {
      "image/png": "[encoded data removed]",
      "text/plain": [
       "<Figure size 720x504 with 2 Axes>"
      ]
     },
     "metadata": {
      "needs_background": "light"
     },
     "output_type": "display_data"
    }
   ],
   "source": [
    "import seaborn as sn\n",
    "plt.figure(figsize = (10,7))\n",
    "sn.heatmap(cm, annot=True)\n",
    "plt.xlabel('Predicted')\n",
    "plt.ylabel('Truth')"
   ]
  },
  {
   "cell_type": "code",
   "execution_count": 1,
   "id": "dc845482",
   "metadata": {},
   "outputs": [],
   "source": [
    "from sklearn.cluster import KMeans\n",
    "import pandas as pd\n",
    "from sklearn.preprocessing import MinMaxScaler\n",
    "from matplotlib import pyplot as plt\n",
    "%matplotlib inline"
   ]
  },
  {
   "cell_type": "code",
   "execution_count": 2,
   "id": "db93bf2d",
   "metadata": {},
   "outputs": [
    {
     "data": {
      "text/html": [
       "<div>\n",
       "<style scoped>\n",
       "    .dataframe tbody tr th:only-of-type {\n",
       "        vertical-align: middle;\n",
       "    }\n",
       "\n",
       "    .dataframe tbody tr th {\n",
       "        vertical-align: top;\n",
       "    }\n",
       "\n",
       "    .dataframe thead th {\n",
       "        text-align: right;\n",
       "    }\n",
       "</style>\n",
       "<table border=\"1\" class=\"dataframe\">\n",
       "  <thead>\n",
       "    <tr style=\"text-align: right;\">\n",
       "      <th></th>\n",
       "      <th>age</th>\n",
       "      <th>sex</th>\n",
       "      <th>cp</th>\n",
       "      <th>trtbps</th>\n",
       "      <th>chol</th>\n",
       "      <th>fbs</th>\n",
       "      <th>restecg</th>\n",
       "      <th>thalachh</th>\n",
       "      <th>exng</th>\n",
       "      <th>oldpeak</th>\n",
       "      <th>output</th>\n",
       "    </tr>\n",
       "  </thead>\n",
       "  <tbody>\n",
       "    <tr>\n",
       "      <th>0</th>\n",
       "      <td>63</td>\n",
       "      <td>1</td>\n",
       "      <td>3</td>\n",
       "      <td>145</td>\n",
       "      <td>233</td>\n",
       "      <td>1</td>\n",
       "      <td>0</td>\n",
       "      <td>150</td>\n",
       "      <td>0</td>\n",
       "      <td>2.3</td>\n",
       "      <td>1</td>\n",
       "    </tr>\n",
       "    <tr>\n",
       "      <th>1</th>\n",
       "      <td>37</td>\n",
       "      <td>1</td>\n",
       "      <td>2</td>\n",
       "      <td>130</td>\n",
       "      <td>250</td>\n",
       "      <td>0</td>\n",
       "      <td>1</td>\n",
       "      <td>187</td>\n",
       "      <td>0</td>\n",
       "      <td>3.5</td>\n",
       "      <td>1</td>\n",
       "    </tr>\n",
       "    <tr>\n",
       "      <th>2</th>\n",
       "      <td>41</td>\n",
       "      <td>0</td>\n",
       "      <td>1</td>\n",
       "      <td>130</td>\n",
       "      <td>204</td>\n",
       "      <td>0</td>\n",
       "      <td>0</td>\n",
       "      <td>172</td>\n",
       "      <td>0</td>\n",
       "      <td>1.4</td>\n",
       "      <td>1</td>\n",
       "    </tr>\n",
       "    <tr>\n",
       "      <th>3</th>\n",
       "      <td>56</td>\n",
       "      <td>1</td>\n",
       "      <td>1</td>\n",
       "      <td>120</td>\n",
       "      <td>236</td>\n",
       "      <td>0</td>\n",
       "      <td>1</td>\n",
       "      <td>178</td>\n",
       "      <td>0</td>\n",
       "      <td>0.8</td>\n",
       "      <td>1</td>\n",
       "    </tr>\n",
       "    <tr>\n",
       "      <th>4</th>\n",
       "      <td>57</td>\n",
       "      <td>0</td>\n",
       "      <td>0</td>\n",
       "      <td>120</td>\n",
       "      <td>354</td>\n",
       "      <td>0</td>\n",
       "      <td>1</td>\n",
       "      <td>163</td>\n",
       "      <td>1</td>\n",
       "      <td>0.6</td>\n",
       "      <td>1</td>\n",
       "    </tr>\n",
       "  </tbody>\n",
       "</table>\n",
       "</div>"
      ],
      "text/plain": [
       "   age  sex  cp  trtbps  chol  fbs  restecg  thalachh  exng  oldpeak  output\n",
       "0   63    1   3     145   233    1        0       150     0      2.3       1\n",
       "1   37    1   2     130   250    0        1       187     0      3.5       1\n",
       "2   41    0   1     130   204    0        0       172     0      1.4       1\n",
       "3   56    1   1     120   236    0        1       178     0      0.8       1\n",
       "4   57    0   0     120   354    0        1       163     1      0.6       1"
      ]
     },
     "execution_count": 2,
     "metadata": {},
     "output_type": "execute_result"
    }
   ],
   "source": [
    "df = pd.read_csv(\"heart.csv\")\n",
    "df.head()\n"
   ]
  },
  {
   "cell_type": "code",
   "execution_count": 6,
   "id": "334e1cd5",
   "metadata": {},
   "outputs": [
    {
     "data": {
      "text/plain": [
       "<matplotlib.collections.PathCollection at 0x1f596272340>"
      ]
     },
     "execution_count": 6,
     "metadata": {},
     "output_type": "execute_result"
    },
    {
     "data": {
      "image/png": "[encoded data removed]",
      "text/plain": [
       "<Figure size 432x288 with 1 Axes>"
      ]
     },
     "metadata": {
      "needs_background": "light"
     },
     "output_type": "display_data"
    }
   ],
   "source": [
    "plt.scatter(df['age'],df['output'])"
   ]
  },
  {
   "cell_type": "code",
   "execution_count": 8,
   "id": "48bc202a",
   "metadata": {},
   "outputs": [
    {
     "data": {
      "text/plain": [
       "KMeans(n_clusters=2)"
      ]
     },
     "execution_count": 8,
     "metadata": {},
     "output_type": "execute_result"
    }
   ],
   "source": [
    "km = KMeans(n_clusters=2)\n",
    "km"
   ]
  },
  {
   "cell_type": "code",
   "execution_count": 9,
   "id": "caaf2f66",
   "metadata": {},
   "outputs": [
    {
     "data": {
      "text/plain": [
       "array([1, 0, 0, 1, 1, 1, 1, 0, 0, 1, 1, 0, 0, 1, 1, 0, 1, 1, 0, 1, 1, 0,\n",
       "       0, 1, 0, 1, 1, 0, 1, 1, 0, 1, 0, 1, 0, 0, 1, 1, 1, 1, 0, 0, 0, 1,\n",
       "       0, 0, 0, 0, 1, 1, 0, 1, 1, 0, 1, 0, 0, 0, 0, 1, 1, 1, 0, 0, 1, 0,\n",
       "       0, 0, 0, 1, 1, 0, 0, 0, 0, 1, 0, 1, 0, 1, 0, 0, 1, 0, 0, 1, 1, 0,\n",
       "       1, 1, 0, 1, 0, 1, 0, 1, 1, 0, 0, 1, 0, 1, 1, 0, 0, 1, 1, 0, 0, 0,\n",
       "       1, 1, 1, 0, 1, 0, 0, 1, 0, 0, 1, 1, 0, 1, 0, 0, 0, 1, 0, 1, 1, 0,\n",
       "       0, 0, 0, 0, 1, 1, 1, 1, 0, 0, 0, 1, 1, 1, 0, 1, 0, 0, 1, 1, 1, 1,\n",
       "       0, 1, 0, 0, 1, 1, 1, 1, 0, 0, 0, 1, 1, 1, 1, 1, 1, 0, 1, 1, 1, 0,\n",
       "       1, 1, 0, 1, 1, 1, 1, 1, 0, 0, 1, 1, 0, 0, 0, 1, 1, 1, 1, 1, 0, 1,\n",
       "       1, 1, 0, 1, 1, 1, 1, 0, 1, 1, 0, 1, 1, 1, 0, 1, 1, 0, 1, 1, 1, 0,\n",
       "       1, 1, 1, 1, 1, 1, 1, 0, 1, 1, 0, 1, 1, 1, 1, 0, 1, 1, 1, 0, 1, 1,\n",
       "       1, 1, 1, 0, 1, 1, 1, 1, 0, 0, 1, 1, 1, 0, 1, 0, 1, 0, 1, 0, 1, 1,\n",
       "       1, 1, 1, 0, 1, 1, 0, 1, 1, 1, 0, 0, 1, 1, 1, 1, 0, 0, 1, 0, 1, 0,\n",
       "       1, 1, 1, 1, 1, 1, 1, 1, 0, 1, 1, 1, 1, 0, 1, 1, 1])"
      ]
     },
     "execution_count": 9,
     "metadata": {},
     "output_type": "execute_result"
    }
   ],
   "source": [
    "y_predicted = km.fit_predict(df[['age','output']])\n",
    "y_predicted"
   ]
  },
  {
   "cell_type": "code",
   "execution_count": 10,
   "id": "97023361",
   "metadata": {},
   "outputs": [
    {
     "data": {
      "text/html": [
       "<div>\n",
       "<style scoped>\n",
       "    .dataframe tbody tr th:only-of-type {\n",
       "        vertical-align: middle;\n",
       "    }\n",
       "\n",
       "    .dataframe tbody tr th {\n",
       "        vertical-align: top;\n",
       "    }\n",
       "\n",
       "    .dataframe thead th {\n",
       "        text-align: right;\n",
       "    }\n",
       "</style>\n",
       "<table border=\"1\" class=\"dataframe\">\n",
       "  <thead>\n",
       "    <tr style=\"text-align: right;\">\n",
       "      <th></th>\n",
       "      <th>age</th>\n",
       "      <th>sex</th>\n",
       "      <th>cp</th>\n",
       "      <th>trtbps</th>\n",
       "      <th>chol</th>\n",
       "      <th>fbs</th>\n",
       "      <th>restecg</th>\n",
       "      <th>thalachh</th>\n",
       "      <th>exng</th>\n",
       "      <th>oldpeak</th>\n",
       "      <th>output</th>\n",
       "      <th>cluster</th>\n",
       "    </tr>\n",
       "  </thead>\n",
       "  <tbody>\n",
       "    <tr>\n",
       "      <th>0</th>\n",
       "      <td>63</td>\n",
       "      <td>1</td>\n",
       "      <td>3</td>\n",
       "      <td>145</td>\n",
       "      <td>233</td>\n",
       "      <td>1</td>\n",
       "      <td>0</td>\n",
       "      <td>150</td>\n",
       "      <td>0</td>\n",
       "      <td>2.3</td>\n",
       "      <td>1</td>\n",
       "      <td>1</td>\n",
       "    </tr>\n",
       "    <tr>\n",
       "      <th>1</th>\n",
       "      <td>37</td>\n",
       "      <td>1</td>\n",
       "      <td>2</td>\n",
       "      <td>130</td>\n",
       "      <td>250</td>\n",
       "      <td>0</td>\n",
       "      <td>1</td>\n",
       "      <td>187</td>\n",
       "      <td>0</td>\n",
       "      <td>3.5</td>\n",
       "      <td>1</td>\n",
       "      <td>0</td>\n",
       "    </tr>\n",
       "    <tr>\n",
       "      <th>2</th>\n",
       "      <td>41</td>\n",
       "      <td>0</td>\n",
       "      <td>1</td>\n",
       "      <td>130</td>\n",
       "      <td>204</td>\n",
       "      <td>0</td>\n",
       "      <td>0</td>\n",
       "      <td>172</td>\n",
       "      <td>0</td>\n",
       "      <td>1.4</td>\n",
       "      <td>1</td>\n",
       "      <td>0</td>\n",
       "    </tr>\n",
       "    <tr>\n",
       "      <th>3</th>\n",
       "      <td>56</td>\n",
       "      <td>1</td>\n",
       "      <td>1</td>\n",
       "      <td>120</td>\n",
       "      <td>236</td>\n",
       "      <td>0</td>\n",
       "      <td>1</td>\n",
       "      <td>178</td>\n",
       "      <td>0</td>\n",
       "      <td>0.8</td>\n",
       "      <td>1</td>\n",
       "      <td>1</td>\n",
       "    </tr>\n",
       "    <tr>\n",
       "      <th>4</th>\n",
       "      <td>57</td>\n",
       "      <td>0</td>\n",
       "      <td>0</td>\n",
       "      <td>120</td>\n",
       "      <td>354</td>\n",
       "      <td>0</td>\n",
       "      <td>1</td>\n",
       "      <td>163</td>\n",
       "      <td>1</td>\n",
       "      <td>0.6</td>\n",
       "      <td>1</td>\n",
       "      <td>1</td>\n",
       "    </tr>\n",
       "  </tbody>\n",
       "</table>\n",
       "</div>"
      ],
      "text/plain": [
       "   age  sex  cp  trtbps  chol  fbs  restecg  thalachh  exng  oldpeak  output  \\\n",
       "0   63    1   3     145   233    1        0       150     0      2.3       1   \n",
       "1   37    1   2     130   250    0        1       187     0      3.5       1   \n",
       "2   41    0   1     130   204    0        0       172     0      1.4       1   \n",
       "3   56    1   1     120   236    0        1       178     0      0.8       1   \n",
       "4   57    0   0     120   354    0        1       163     1      0.6       1   \n",
       "\n",
       "   cluster  \n",
       "0        1  \n",
       "1        0  \n",
       "2        0  \n",
       "3        1  \n",
       "4        1  "
      ]
     },
     "execution_count": 10,
     "metadata": {},
     "output_type": "execute_result"
    }
   ],
   "source": [
    "df['cluster']=y_predicted\n",
    "df.head()"
   ]
  },
  {
   "cell_type": "code",
   "execution_count": 11,
   "id": "dbdf00ab",
   "metadata": {},
   "outputs": [
    {
     "data": {
      "text/plain": [
       "<matplotlib.legend.Legend at 0x1f59862ee20>"
      ]
     },
     "execution_count": 11,
     "metadata": {},
     "output_type": "execute_result"
    },
    {
     "data": {
      "image/png": "[encoded data removed]",
      "text/plain": [
       "<Figure size 432x288 with 1 Axes>"
      ]
     },
     "metadata": {
      "needs_background": "light"
     },
     "output_type": "display_data"
    }
   ],
   "source": [
    "df1 = df[df.cluster==0]\n",
    "df2 = df[df.cluster==1]\n",
    "plt.scatter(df1.age,df1['output'],color='green')\n",
    "plt.scatter(df2.age,df2['output'],color='red')\n",
    "plt.scatter(km.cluster_centers_[:,0],km.cluster_centers_[:,1],color='purple',marker='*',label='centroid')\n",
    "plt.xlabel('age')\n",
    "plt.ylabel('output')\n",
    "plt.legend()"
   ]
  },
  {
   "cell_type": "code",
   "execution_count": 12,
   "id": "8da2a5cd",
   "metadata": {},
   "outputs": [],
   "source": [
    "scaler = MinMaxScaler()\n",
    "\n",
    "scaler.fit(df[['output']])\n",
    "df['output'] = scaler.transform(df[['output']])\n",
    "\n",
    "scaler.fit(df[['age']])\n",
    "df['age'] = scaler.transform(df[['age']])"
   ]
  },
  {
   "cell_type": "code",
   "execution_count": 13,
   "id": "20883cbd",
   "metadata": {},
   "outputs": [
    {
     "data": {
      "text/html": [
       "<div>\n",
       "<style scoped>\n",
       "    .dataframe tbody tr th:only-of-type {\n",
       "        vertical-align: middle;\n",
       "    }\n",
       "\n",
       "    .dataframe tbody tr th {\n",
       "        vertical-align: top;\n",
       "    }\n",
       "\n",
       "    .dataframe thead th {\n",
       "        text-align: right;\n",
       "    }\n",
       "</style>\n",
       "<table border=\"1\" class=\"dataframe\">\n",
       "  <thead>\n",
       "    <tr style=\"text-align: right;\">\n",
       "      <th></th>\n",
       "      <th>age</th>\n",
       "      <th>sex</th>\n",
       "      <th>cp</th>\n",
       "      <th>trtbps</th>\n",
       "      <th>chol</th>\n",
       "      <th>fbs</th>\n",
       "      <th>restecg</th>\n",
       "      <th>thalachh</th>\n",
       "      <th>exng</th>\n",
       "      <th>oldpeak</th>\n",
       "      <th>output</th>\n",
       "      <th>cluster</th>\n",
       "    </tr>\n",
       "  </thead>\n",
       "  <tbody>\n",
       "    <tr>\n",
       "      <th>0</th>\n",
       "      <td>0.708333</td>\n",
       "      <td>1</td>\n",
       "      <td>3</td>\n",
       "      <td>145</td>\n",
       "      <td>233</td>\n",
       "      <td>1</td>\n",
       "      <td>0</td>\n",
       "      <td>150</td>\n",
       "      <td>0</td>\n",
       "      <td>2.3</td>\n",
       "      <td>1.0</td>\n",
       "      <td>1</td>\n",
       "    </tr>\n",
       "    <tr>\n",
       "      <th>1</th>\n",
       "      <td>0.166667</td>\n",
       "      <td>1</td>\n",
       "      <td>2</td>\n",
       "      <td>130</td>\n",
       "      <td>250</td>\n",
       "      <td>0</td>\n",
       "      <td>1</td>\n",
       "      <td>187</td>\n",
       "      <td>0</td>\n",
       "      <td>3.5</td>\n",
       "      <td>1.0</td>\n",
       "      <td>0</td>\n",
       "    </tr>\n",
       "    <tr>\n",
       "      <th>2</th>\n",
       "      <td>0.250000</td>\n",
       "      <td>0</td>\n",
       "      <td>1</td>\n",
       "      <td>130</td>\n",
       "      <td>204</td>\n",
       "      <td>0</td>\n",
       "      <td>0</td>\n",
       "      <td>172</td>\n",
       "      <td>0</td>\n",
       "      <td>1.4</td>\n",
       "      <td>1.0</td>\n",
       "      <td>0</td>\n",
       "    </tr>\n",
       "    <tr>\n",
       "      <th>3</th>\n",
       "      <td>0.562500</td>\n",
       "      <td>1</td>\n",
       "      <td>1</td>\n",
       "      <td>120</td>\n",
       "      <td>236</td>\n",
       "      <td>0</td>\n",
       "      <td>1</td>\n",
       "      <td>178</td>\n",
       "      <td>0</td>\n",
       "      <td>0.8</td>\n",
       "      <td>1.0</td>\n",
       "      <td>1</td>\n",
       "    </tr>\n",
       "    <tr>\n",
       "      <th>4</th>\n",
       "      <td>0.583333</td>\n",
       "      <td>0</td>\n",
       "      <td>0</td>\n",
       "      <td>120</td>\n",
       "      <td>354</td>\n",
       "      <td>0</td>\n",
       "      <td>1</td>\n",
       "      <td>163</td>\n",
       "      <td>1</td>\n",
       "      <td>0.6</td>\n",
       "      <td>1.0</td>\n",
       "      <td>1</td>\n",
       "    </tr>\n",
       "  </tbody>\n",
       "</table>\n",
       "</div>"
      ],
      "text/plain": [
       "        age  sex  cp  trtbps  chol  fbs  restecg  thalachh  exng  oldpeak  \\\n",
       "0  0.708333    1   3     145   233    1        0       150     0      2.3   \n",
       "1  0.166667    1   2     130   250    0        1       187     0      3.5   \n",
       "2  0.250000    0   1     130   204    0        0       172     0      1.4   \n",
       "3  0.562500    1   1     120   236    0        1       178     0      0.8   \n",
       "4  0.583333    0   0     120   354    0        1       163     1      0.6   \n",
       "\n",
       "   output  cluster  \n",
       "0     1.0        1  \n",
       "1     1.0        0  \n",
       "2     1.0        0  \n",
       "3     1.0        1  \n",
       "4     1.0        1  "
      ]
     },
     "execution_count": 13,
     "metadata": {},
     "output_type": "execute_result"
    }
   ],
   "source": [
    "df.head()"
   ]
  },
  {
   "cell_type": "code",
   "execution_count": 15,
   "id": "be6d1293",
   "metadata": {},
   "outputs": [
    {
     "data": {
      "text/plain": [
       "<matplotlib.collections.PathCollection at 0x1f5981c05b0>"
      ]
     },
     "execution_count": 15,
     "metadata": {},
     "output_type": "execute_result"
    },
    {
     "data": {
      "image/png": "[encoded data removed]",
      "text/plain": [
       "<Figure size 432x288 with 1 Axes>"
      ]
     },
     "metadata": {
      "needs_background": "light"
     },
     "output_type": "display_data"
    }
   ],
   "source": [
    "plt.scatter(df.age,df['output'])"
   ]
  },
  {
   "cell_type": "code",
   "execution_count": 16,
   "id": "d6783f75",
   "metadata": {},
   "outputs": [
    {
     "data": {
      "text/plain": [
       "array([0, 0, 0, 0, 0, 0, 0, 0, 0, 0, 0, 0, 0, 0, 0, 0, 0, 0, 0, 0, 0, 0,\n",
       "       0, 0, 0, 0, 0, 0, 0, 0, 0, 0, 0, 0, 0, 0, 0, 0, 0, 0, 0, 0, 0, 0,\n",
       "       0, 0, 0, 0, 0, 0, 0, 0, 0, 0, 0, 0, 0, 0, 0, 0, 0, 0, 0, 0, 0, 0,\n",
       "       0, 0, 0, 0, 0, 0, 0, 0, 0, 0, 0, 0, 0, 0, 0, 0, 0, 0, 0, 0, 0, 0,\n",
       "       0, 0, 0, 0, 0, 0, 0, 0, 0, 0, 0, 0, 0, 0, 0, 0, 0, 0, 0, 0, 0, 0,\n",
       "       0, 0, 0, 0, 0, 0, 0, 0, 0, 0, 0, 0, 0, 0, 0, 0, 0, 0, 0, 0, 0, 0,\n",
       "       0, 0, 0, 0, 0, 0, 0, 0, 0, 0, 0, 0, 0, 0, 0, 0, 0, 0, 0, 0, 0, 0,\n",
       "       0, 0, 0, 0, 0, 0, 0, 0, 0, 0, 0, 1, 1, 1, 1, 1, 1, 1, 1, 1, 1, 1,\n",
       "       1, 1, 1, 1, 1, 1, 1, 1, 1, 1, 1, 1, 1, 1, 1, 1, 1, 1, 1, 1, 1, 1,\n",
       "       1, 1, 1, 1, 1, 1, 1, 1, 1, 1, 1, 1, 1, 1, 1, 1, 1, 1, 1, 1, 1, 1,\n",
       "       1, 1, 1, 1, 1, 1, 1, 1, 1, 1, 1, 1, 1, 1, 1, 1, 1, 1, 1, 1, 1, 1,\n",
       "       1, 1, 1, 1, 1, 1, 1, 1, 1, 1, 1, 1, 1, 1, 1, 1, 1, 1, 1, 1, 1, 1,\n",
       "       1, 1, 1, 1, 1, 1, 1, 1, 1, 1, 1, 1, 1, 1, 1, 1, 1, 1, 1, 1, 1, 1,\n",
       "       1, 1, 1, 1, 1, 1, 1, 1, 1, 1, 1, 1, 1, 1, 1, 1, 1])"
      ]
     },
     "execution_count": 16,
     "metadata": {},
     "output_type": "execute_result"
    }
   ],
   "source": [
    "km = KMeans(n_clusters=2)\n",
    "y_predicted = km.fit_predict(df[['age','output']])\n",
    "y_predicted"
   ]
  },
  {
   "cell_type": "code",
   "execution_count": 17,
   "id": "e196609e",
   "metadata": {},
   "outputs": [
    {
     "data": {
      "text/html": [
       "<div>\n",
       "<style scoped>\n",
       "    .dataframe tbody tr th:only-of-type {\n",
       "        vertical-align: middle;\n",
       "    }\n",
       "\n",
       "    .dataframe tbody tr th {\n",
       "        vertical-align: top;\n",
       "    }\n",
       "\n",
       "    .dataframe thead th {\n",
       "        text-align: right;\n",
       "    }\n",
       "</style>\n",
       "<table border=\"1\" class=\"dataframe\">\n",
       "  <thead>\n",
       "    <tr style=\"text-align: right;\">\n",
       "      <th></th>\n",
       "      <th>age</th>\n",
       "      <th>sex</th>\n",
       "      <th>cp</th>\n",
       "      <th>trtbps</th>\n",
       "      <th>chol</th>\n",
       "      <th>fbs</th>\n",
       "      <th>restecg</th>\n",
       "      <th>thalachh</th>\n",
       "      <th>exng</th>\n",
       "      <th>oldpeak</th>\n",
       "      <th>output</th>\n",
       "      <th>cluster</th>\n",
       "    </tr>\n",
       "  </thead>\n",
       "  <tbody>\n",
       "    <tr>\n",
       "      <th>0</th>\n",
       "      <td>0.708333</td>\n",
       "      <td>1</td>\n",
       "      <td>3</td>\n",
       "      <td>145</td>\n",
       "      <td>233</td>\n",
       "      <td>1</td>\n",
       "      <td>0</td>\n",
       "      <td>150</td>\n",
       "      <td>0</td>\n",
       "      <td>2.3</td>\n",
       "      <td>1.0</td>\n",
       "      <td>0</td>\n",
       "    </tr>\n",
       "    <tr>\n",
       "      <th>1</th>\n",
       "      <td>0.166667</td>\n",
       "      <td>1</td>\n",
       "      <td>2</td>\n",
       "      <td>130</td>\n",
       "      <td>250</td>\n",
       "      <td>0</td>\n",
       "      <td>1</td>\n",
       "      <td>187</td>\n",
       "      <td>0</td>\n",
       "      <td>3.5</td>\n",
       "      <td>1.0</td>\n",
       "      <td>0</td>\n",
       "    </tr>\n",
       "    <tr>\n",
       "      <th>2</th>\n",
       "      <td>0.250000</td>\n",
       "      <td>0</td>\n",
       "      <td>1</td>\n",
       "      <td>130</td>\n",
       "      <td>204</td>\n",
       "      <td>0</td>\n",
       "      <td>0</td>\n",
       "      <td>172</td>\n",
       "      <td>0</td>\n",
       "      <td>1.4</td>\n",
       "      <td>1.0</td>\n",
       "      <td>0</td>\n",
       "    </tr>\n",
       "    <tr>\n",
       "      <th>3</th>\n",
       "      <td>0.562500</td>\n",
       "      <td>1</td>\n",
       "      <td>1</td>\n",
       "      <td>120</td>\n",
       "      <td>236</td>\n",
       "      <td>0</td>\n",
       "      <td>1</td>\n",
       "      <td>178</td>\n",
       "      <td>0</td>\n",
       "      <td>0.8</td>\n",
       "      <td>1.0</td>\n",
       "      <td>0</td>\n",
       "    </tr>\n",
       "    <tr>\n",
       "      <th>4</th>\n",
       "      <td>0.583333</td>\n",
       "      <td>0</td>\n",
       "      <td>0</td>\n",
       "      <td>120</td>\n",
       "      <td>354</td>\n",
       "      <td>0</td>\n",
       "      <td>1</td>\n",
       "      <td>163</td>\n",
       "      <td>1</td>\n",
       "      <td>0.6</td>\n",
       "      <td>1.0</td>\n",
       "      <td>0</td>\n",
       "    </tr>\n",
       "  </tbody>\n",
       "</table>\n",
       "</div>"
      ],
      "text/plain": [
       "        age  sex  cp  trtbps  chol  fbs  restecg  thalachh  exng  oldpeak  \\\n",
       "0  0.708333    1   3     145   233    1        0       150     0      2.3   \n",
       "1  0.166667    1   2     130   250    0        1       187     0      3.5   \n",
       "2  0.250000    0   1     130   204    0        0       172     0      1.4   \n",
       "3  0.562500    1   1     120   236    0        1       178     0      0.8   \n",
       "4  0.583333    0   0     120   354    0        1       163     1      0.6   \n",
       "\n",
       "   output  cluster  \n",
       "0     1.0        0  \n",
       "1     1.0        0  \n",
       "2     1.0        0  \n",
       "3     1.0        0  \n",
       "4     1.0        0  "
      ]
     },
     "execution_count": 17,
     "metadata": {},
     "output_type": "execute_result"
    }
   ],
   "source": [
    "df['cluster']=y_predicted\n",
    "df.head()"
   ]
  },
  {
   "cell_type": "code",
   "execution_count": 18,
   "id": "246309b7",
   "metadata": {},
   "outputs": [
    {
     "data": {
      "text/plain": [
       "array([[4.89520202e-01, 1.00000000e+00],\n",
       "       [5.75030193e-01, 2.22044605e-16]])"
      ]
     },
     "execution_count": 18,
     "metadata": {},
     "output_type": "execute_result"
    }
   ],
   "source": [
    "km.cluster_centers_"
   ]
  },
  {
   "cell_type": "code",
   "execution_count": 20,
   "id": "409444b1",
   "metadata": {},
   "outputs": [
    {
     "data": {
      "text/plain": [
       "<matplotlib.legend.Legend at 0x1f59837dfd0>"
      ]
     },
     "execution_count": 20,
     "metadata": {},
     "output_type": "execute_result"
    },
    {
     "data": {
      "image/png": "[encoded data removed]",
      "text/plain": [
       "<Figure size 432x288 with 1 Axes>"
      ]
     },
     "metadata": {
      "needs_background": "light"
     },
     "output_type": "display_data"
    }
   ],
   "source": [
    "df1 = df[df.cluster==0]\n",
    "df2 = df[df.cluster==1]\n",
    "plt.scatter(df1.age,df1['output'],color='green')\n",
    "plt.scatter(df2.age,df2['output'],color='red')\n",
    "plt.scatter(km.cluster_centers_[:,0],km.cluster_centers_[:,1],color='black',marker='*',label='centroid')\n",
    "plt.legend()"
   ]
  },
  {
   "cell_type": "code",
   "execution_count": 25,
   "id": "e9a0e60c",
   "metadata": {},
   "outputs": [
    {
     "name": "stderr",
     "output_type": "stream",
     "text": [
      "C:\\Users\\lenovo\\anaconda3\\lib\\site-packages\\sklearn\\cluster\\_kmeans.py:881: UserWarning: KMeans is known to have a memory leak on Windows with MKL, when there are less chunks than available threads. You can avoid it by setting the environment variable OMP_NUM_THREADS=2.\n",
      "  warnings.warn(\n"
     ]
    }
   ],
   "source": [
    "sse = []\n",
    "k_rng = range(1,10)\n",
    "for k in k_rng:\n",
    "    km = KMeans(n_clusters=k)\n",
    "    km.fit(df[['age','output']])\n",
    "    sse.append(km.inertia_)\n",
    "    "
   ]
  },
  {
   "cell_type": "code",
   "execution_count": 26,
   "id": "2df4e451",
   "metadata": {},
   "outputs": [
    {
     "data": {
      "text/plain": [
       "[85.96029290429036,\n",
       " 10.262295223521452,\n",
       " 5.886935722286658,\n",
       " 3.4276183999662626,\n",
       " 2.1299466856522082,\n",
       " 1.48202873430342,\n",
       " 1.194728592854601,\n",
       " 0.9793192955790613,\n",
       " 0.7650931011497221]"
      ]
     },
     "execution_count": 26,
     "metadata": {},
     "output_type": "execute_result"
    }
   ],
   "source": [
    "sse"
   ]
  },
  {
   "cell_type": "code",
   "execution_count": 27,
   "id": "e5ba7150",
   "metadata": {},
   "outputs": [
    {
     "data": {
      "text/plain": [
       "[<matplotlib.lines.Line2D at 0x1f59841f550>]"
      ]
     },
     "execution_count": 27,
     "metadata": {},
     "output_type": "execute_result"
    },
    {
     "data": {
      "image/png": "[encoded data removed]",
      "text/plain": [
       "<Figure size 432x288 with 1 Axes>"
      ]
     },
     "metadata": {
      "needs_background": "light"
     },
     "output_type": "display_data"
    }
   ],
   "source": [
    "plt.xlabel('K')\n",
    "plt.ylabel('Sum of squared error')\n",
    "plt.plot(k_rng,sse)"
   ]
  },
  {
   "cell_type": "code",
   "execution_count": null,
   "id": "fc5575b1",
   "metadata": {},
   "outputs": [],
   "source": []
  }
 ],
 "metadata": {
  "kernelspec": {
   "display_name": "Python 3 (ipykernel)",
   "language": "python",
   "name": "python3"
  },
  "language_info": {
   "codemirror_mode": {
    "name": "ipython",
    "version": 3
   },
   "file_extension": ".py",
   "mimetype": "text/x-python",
   "name": "python",
   "nbconvert_exporter": "python",
   "pygments_lexer": "ipython3",
   "version": "3.9.7"
  }
 },
 "nbformat": 4,
 "nbformat_minor": 5
}
